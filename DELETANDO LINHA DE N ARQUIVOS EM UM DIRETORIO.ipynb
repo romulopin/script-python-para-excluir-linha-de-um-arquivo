{
 "cells": [
  {
   "cell_type": "markdown",
   "metadata": {},
   "source": [
    "# Manipulando arquivos utilizando Python"
   ]
  },
  {
   "cell_type": "markdown",
   "metadata": {},
   "source": [
    "Script escrito em python para localizar um tipo de arquivo, varrer seu conteúdo e apagar uma determinada linha específica."
   ]
  },
  {
   "cell_type": "code",
   "execution_count": 72,
   "metadata": {
    "scrolled": true
   },
   "outputs": [],
   "source": [
    "import re\n",
    "import os\n",
    "import fnmatch\n",
    "\n",
    "diretorio_raiz = 'excel/' #diretorio raiz\n",
    "nome_padrao = 'sheet{}'\n",
    "tipo_arquivos = '.xml'\n",
    "caminho_completo = diretorio_raiz + nome_padrao + tipo_arquivos\n",
    "\n",
    "count = (len(fnmatch.filter(os.listdir('excel/'), \"*.xml\"))) #conta quantos arquivos da extensao especificada existem no diretório\n",
    "j = 1\n",
    "while(j <= count): #enquanto houver a quantidade de arquivos encontrada, faça o delete do termo especificado de dentro do arquivo\n",
    "    f = open(caminho_completo.format(j),\"r+\",encoding=\"utf8\")\n",
    "    d = f.readlines()\n",
    "    f.seek(0)\n",
    "    j+=1\n",
    "    for i in d:\n",
    "        if i != '<sheetProtection />'+\"\\n\": #se i for diferente disso, avance uma linha\n",
    "            i = re.sub('<sheetProtection[^>]+?>', '', i) #se i for igual ao termo que eu quero excluir, exclua.\n",
    "            f.write(i)\n",
    "    f.truncate()\n",
    "    f.close()"
   ]
  }
 ],
 "metadata": {
  "kernelspec": {
   "display_name": "Python 3",
   "language": "python",
   "name": "python3"
  },
  "language_info": {
   "codemirror_mode": {
    "name": "ipython",
    "version": 3
   },
   "file_extension": ".py",
   "mimetype": "text/x-python",
   "name": "python",
   "nbconvert_exporter": "python",
   "pygments_lexer": "ipython3",
   "version": "3.8.3"
  }
 },
 "nbformat": 4,
 "nbformat_minor": 2
}
